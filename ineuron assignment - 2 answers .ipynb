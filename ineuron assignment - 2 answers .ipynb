{
 "cells": [
  {
   "cell_type": "code",
   "execution_count": 4,
   "id": "cd434da3",
   "metadata": {},
   "outputs": [
    {
     "name": "stdout",
     "output_type": "stream",
     "text": [
      "enter the no of kilometers : 3\n",
      " THE NO OF MILES : 1.8641135699999998\n"
     ]
    }
   ],
   "source": [
    "# Q1: Write a Python program to convert kilometers to miles? \n",
    "a= float(input( \"enter the no of kilometers : \"))\n",
    "\n",
    "print( \" THE NO OF MILES :\",a * 0.62137119 )\n",
    "\n",
    "\n"
   ]
  },
  {
   "cell_type": "code",
   "execution_count": 8,
   "id": "33c8b6a0",
   "metadata": {},
   "outputs": [
    {
     "name": "stdout",
     "output_type": "stream",
     "text": [
      "ENTER THE NO OF DEGREEIN CELSIUS : 34\n",
      " The degree in farenhith is : 93.2\n"
     ]
    }
   ],
   "source": [
    "# Q2: Write a Python program to convert Celsius to Fahrenheit? \n",
    "B= float(input(\"ENTER THE NO OF DEGREEIN CELSIUS : \"))\n",
    "print(\" The degree in farenhith is :\", B*1.8 +32 )"
   ]
  },
  {
   "cell_type": "code",
   "execution_count": 9,
   "id": "7975b334",
   "metadata": {},
   "outputs": [
    {
     "name": "stdout",
     "output_type": "stream",
     "text": [
      "   December 2022\n",
      "Mo Tu We Th Fr Sa Su\n",
      "          1  2  3  4\n",
      " 5  6  7  8  9 10 11\n",
      "12 13 14 15 16 17 18\n",
      "19 20 21 22 23 24 25\n",
      "26 27 28 29 30 31\n",
      "\n"
     ]
    }
   ],
   "source": [
    " # Q3:  Write a Python program to display calendar?\n",
    "import calendar \n",
    "yy= 2022\n",
    "mm=12\n",
    "print(calendar.month(yy,mm))"
   ]
  },
  {
   "cell_type": "code",
   "execution_count": 16,
   "id": "a16e75b3",
   "metadata": {},
   "outputs": [
    {
     "name": "stdout",
     "output_type": "stream",
     "text": [
      "enter the coefficent of x2 :3\n",
      "enter the coefficent of x : 4\n",
      "enter the value of constant 5\n",
      "THE SOLUTION FOR THE EQUATION IS (-4+9.9498743710662j) AND (-4-9.9498743710662j) \n"
     ]
    }
   ],
   "source": [
    "# Q4: Write a Python program to solve quadratic equation?\n",
    "import cmath \n",
    "a= int(input(\"enter the coefficent of x2 :\"))\n",
    "b= int(input('enter the coefficent of x : '))\n",
    "c= int(input('enter the value of constant '))\n",
    "d = (b**2) - (4*a*c)  \n",
    "sol1 = -b + cmath.sqrt(d)/2*a\n",
    "sol2=  -b - cmath.sqrt(d)/2*a\n",
    "\n",
    "print(\"THE SOLUTION FOR THE EQUATION IS {0} AND {1} \".format(sol1,sol2))\n"
   ]
  },
  {
   "cell_type": "code",
   "execution_count": 22,
   "id": "f29357da",
   "metadata": {},
   "outputs": [
    {
     "name": "stdout",
     "output_type": "stream",
     "text": [
      "enter the value : 3\n",
      "enter the value : 4\n",
      "before swaping the values for 3 and 4 \n",
      "after swaping the values for 4 and 3 \n"
     ]
    }
   ],
   "source": [
    "# Q5:Write a Python program to swap two variables without temp variable?\n",
    "\n",
    "h =int(input(\"enter the value : \"))\n",
    "n =int(input(\"enter the value : \"))\n",
    "print('before swaping the values for {0} and {1} '.format(h,n))\n",
    "h = h + n\n",
    "n = h - n \n",
    "h = h - n \n",
    "print('after swaping the values for {0} and {1} '.format(h,n))\n",
    "\n",
    "    \n"
   ]
  },
  {
   "cell_type": "code",
   "execution_count": null,
   "id": "6898587d",
   "metadata": {},
   "outputs": [],
   "source": []
  }
 ],
 "metadata": {
  "kernelspec": {
   "display_name": "Python 3 (ipykernel)",
   "language": "python",
   "name": "python3"
  },
  "language_info": {
   "codemirror_mode": {
    "name": "ipython",
    "version": 3
   },
   "file_extension": ".py",
   "mimetype": "text/x-python",
   "name": "python",
   "nbconvert_exporter": "python",
   "pygments_lexer": "ipython3",
   "version": "3.9.13"
  }
 },
 "nbformat": 4,
 "nbformat_minor": 5
}
